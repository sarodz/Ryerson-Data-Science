{
 "cells": [
  {
   "cell_type": "code",
   "execution_count": 94,
   "metadata": {
    "collapsed": true
   },
   "outputs": [],
   "source": [
    "import numpy as np\n",
    "import pandas as pd\n",
    "import matplotlib.pyplot as plt\n",
    "import math\n",
    "import random\n",
    "from sklearn.metrics import accuracy_score, confusion_matrix\n",
    "\n",
    "def sigmoid(a):\n",
    "    size = a.shape[0]\n",
    "    output = np.zeros(size)\n",
    "    for i in range(size):\n",
    "        if a[i] > -100:\n",
    "            output[i] = 1. / (1 + np.exp(-a[i]))\n",
    "    return(output)\n",
    "\n",
    "def softmax(x):\n",
    "    # exp-normalize trick: https://timvieira.github.io/blog/post/2014/02/11/exp-normalize-trick/\n",
    "    e = np.exp(x - np.max(x))  \n",
    "    if e.ndim == 1:\n",
    "        return e / np.sum(e, axis=0)\n",
    "    else:  \n",
    "        return e / np.array([np.sum(e, axis=1)]).T \n",
    "\n",
    "def normalize(X):\n",
    "    max_ = np.max(X,axis=0)\n",
    "    min_ = np.min(X,axis=0)\n",
    "    return((X - min_)/(max_ - min_))\n",
    "\n",
    "def crossEntropy(r, y):\n",
    "    return(np.sum(r*np.log(y)))\n",
    "\n",
    "def logDiscrimination(X, Y, step = 0.1, totIter= 100, decay = 0.95):\n",
    "    X = normalize(X)\n",
    "    X = np.c_[np.ones(X.shape[0]).reshape(-1,1), X]\n",
    "    \n",
    "    totElem = X.shape[0]\n",
    "\n",
    "    # one hot coding\n",
    "    Y = Y - np.min(Y)\n",
    "    n_values = np.max(Y) + 1\n",
    "    Y = np.eye(n_values)[Y]\n",
    "\n",
    "    k = Y.shape[1]\n",
    "    d = X.shape[1]\n",
    "    w = np.random.uniform(low = -0.01, high = 0.01, size = (k,d))\n",
    "           \n",
    "    for i in range(totIter):\n",
    "        idx = random.sample(range(totElem), totElem)\n",
    "        X = X[idx,:]\n",
    "        Y = Y[idx,:]\n",
    "            \n",
    "        entropy = 0\n",
    "        deltaW = np.zeros((k,d))\n",
    "        \n",
    "        for t in range(totElem):\n",
    "            x = X[t,:]\n",
    "            r = Y[t,:]\n",
    "\n",
    "            o = np.dot(x, w.transpose())\n",
    "            y = softmax(o)\n",
    "            w += step * (r - y).reshape(k,1) * x\n",
    "\n",
    "            #entropy += crossEntropy(r, y)\n",
    "        \n",
    "        step *= decay\n",
    "        \n",
    "        #if i % 50 == 0 or i == totIter-1:\n",
    "        #    print(\"Entropy after epoch {0}: {1}\".format(i+1, -entropy))\n",
    "\n",
    "    return(w)\n",
    "\n",
    "def prediction(w, x):\n",
    "    x_ = np.append(1, x).astype(float)\n",
    "    o_=np.dot(x_, w.transpose())\n",
    "    return(np.argmax(softmax(o_)))\n",
    "\n",
    "def backprop(X, Y, step=0.1, H=3, epoch=100, decay = 0.99):\n",
    "    J = X.shape[1]\n",
    "    totElem = X.shape[0]\n",
    "    \n",
    "    X = normalize(X)\n",
    "    X = np.c_[np.ones(X.shape[0]).reshape(-1,1), X]  \n",
    "\n",
    "    # one hot coding\n",
    "    Y = Y - np.min(Y)\n",
    "    n_values = np.max(Y) + 1\n",
    "    Y = np.eye(n_values)[Y]\n",
    "    \n",
    "    I = Y.shape[1]\n",
    "    \n",
    "    #xavier = (6/(J+I))**0.5\n",
    "    xavier = 0.01\n",
    "    v = np.random.uniform(low = -xavier, high = xavier, size = (I, H+1))\n",
    "    w = np.random.uniform(low = -xavier, high = xavier, size = (H, J+1))\n",
    "\n",
    "    for e in range(epoch):\n",
    "        idx = random.sample(range(totElem), totElem)\n",
    "        X = X[idx,:]\n",
    "        Y = Y[idx,:]\n",
    "        \n",
    "        for t in range(totElem):\n",
    "            x = X[t,:]\n",
    "            r = Y[t,:]\n",
    "\n",
    "            z = np.ones(H+1)\n",
    "            z[1:] = sigmoid(np.dot(x, w.transpose()))\n",
    "            \n",
    "            y = softmax(np.dot(z, v.transpose()))\n",
    "            \n",
    "            error = r - y\n",
    "            \n",
    "            deltaV = np.zeros((I, H+1))\n",
    "            for h in range(H):\n",
    "                deltaV[:,h] = error * z[h]\n",
    "            \n",
    "            deltaW = np.zeros((H, J+1))                \n",
    "            for h in range(H):\n",
    "                deltaW[h,:] = np.sum(error * v[:,h+1]) * z[h+1] * (1 - z[h+1]) * x \n",
    "\n",
    "            v += step * deltaV\n",
    "            w += step * deltaW\n",
    "\n",
    "        step *= decay\n",
    "    return(v, w)\n",
    "   \n",
    "def feedforward(v,w, x, H):\n",
    "    x_ = np.append(1, x).astype(float)\n",
    "    z = np.ones(H+1)\n",
    "    z[1:] = sigmoid(np.dot(x_, w.transpose()))\n",
    "    y = softmax(np.dot(z, v.transpose()))\n",
    "    return(y)"
   ]
  },
  {
   "cell_type": "code",
   "execution_count": 63,
   "metadata": {},
   "outputs": [
    {
     "data": {
      "image/png": "[encoded data removed]",
      "text/plain": [
       "<matplotlib.figure.Figure at 0x1aa10a0ac88>"
      ]
     },
     "metadata": {},
     "output_type": "display_data"
    }
   ],
   "source": [
    "### TEST\n",
    "np.random.seed(42)\n",
    "data = pd.DataFrame(columns=['X1', 'X2', 'cluster'])\n",
    "\n",
    "##### Cluster 1\n",
    "clusterNo = 1\n",
    "mean = [-3, 4]\n",
    "cov = [[0.2, 0], [0, 0.2]] \n",
    "count = 20\n",
    "\n",
    "x1, x2 = np.random.multivariate_normal(mean, cov, count).T\n",
    "temp = pd.DataFrame({\n",
    "    'X1': x1,\n",
    "    'X2': x2,\n",
    "    'cluster': np.repeat(clusterNo,count)\n",
    "})\n",
    "data = pd.concat([data, temp]).reset_index(drop=True)\n",
    "\n",
    "##### Cluster 2\n",
    "clusterNo = 2\n",
    "mean = [-0.3, 7]\n",
    "cov = [[0.1, 0], [0, 0.15]] \n",
    "count = 32\n",
    "\n",
    "x1, x2 = np.random.multivariate_normal(mean, cov, count).T\n",
    "temp = pd.DataFrame({\n",
    "    'X1': x1,\n",
    "    'X2': x2,\n",
    "    'cluster': np.repeat(clusterNo,count)\n",
    "})\n",
    "data = pd.concat([data, temp]).reset_index(drop=True)\n",
    "\n",
    "##### Cluster 3\n",
    "clusterNo = 3\n",
    "mean = [-1.5, -2]\n",
    "cov = [[0.1, 0], [0, 0.1]] \n",
    "count = 14\n",
    "\n",
    "x1, x2 = np.random.multivariate_normal(mean, cov, count).T\n",
    "temp = pd.DataFrame({\n",
    "    'X1': x1,\n",
    "    'X2': x2,\n",
    "    'cluster': np.repeat(clusterNo,count)\n",
    "})\n",
    "data = pd.concat([data, temp]).reset_index(drop=True)\n",
    "\n",
    "fig, ax = plt.subplots(figsize=(7,5))\n",
    "colors = {'1':'red', '2':'blue', '3':'green'}\n",
    "ax.scatter(data.X1, data.X2, c=data.cluster.apply(lambda x: colors[str(x)]))\n",
    "plt.show()"
   ]
  },
  {
   "cell_type": "code",
   "execution_count": 64,
   "metadata": {},
   "outputs": [
    {
     "data": {
      "text/plain": [
       "array([[20,  0,  0],\n",
       "       [ 0, 32,  0],\n",
       "       [ 0,  0, 14]], dtype=int64)"
      ]
     },
     "execution_count": 64,
     "metadata": {},
     "output_type": "execute_result"
    }
   ],
   "source": [
    "hidden = 8\n",
    "epoch = 300\n",
    "v,w = backprop(X=data.iloc[:,[0,1]].as_matrix(), Y= data.cluster.values.astype(int), step=0.01, H=hidden, epoch=epoch, decay=1)\n",
    "\n",
    "results = data.copy()\n",
    "results['pred'] = np.repeat(-1, results.shape[0])\n",
    "for i in range(results.shape[0]):\n",
    "    results.iloc[i,3] = np.argmax(feedforward(v=v,w=w,x=results.iloc[i,[0,1]].as_matrix(), H = hidden))+1\n",
    "    \n",
    "confusion_matrix(y_true = results['cluster'].values.astype(int), y_pred = results['pred'].values)"
   ]
  },
  {
   "cell_type": "code",
   "execution_count": 90,
   "metadata": {},
   "outputs": [
    {
     "name": "stdout",
     "output_type": "stream",
     "text": [
      "Entropy after epoch 1: 68.86217094543831\n",
      "Entropy after epoch 5: 56.698207434412154\n"
     ]
    },
    {
     "data": {
      "text/plain": [
       "array([[20,  0,  0],\n",
       "       [ 0, 32,  0],\n",
       "       [ 1,  0, 13]], dtype=int64)"
      ]
     },
     "execution_count": 90,
     "metadata": {},
     "output_type": "execute_result"
    }
   ],
   "source": [
    "weights = logDiscrimination(step = 0.01, decay = 1,\n",
    "                            X=data.copy().iloc[:,[0,1]].as_matrix(), Y=data.copy().cluster.values.astype(int), totIter=5)\n",
    "\n",
    "results = data.copy()\n",
    "results['pred'] = np.repeat(-1, results.shape[0])\n",
    "for i in range(results.shape[0]):\n",
    "    results.iloc[i,3] = prediction(w=weights, x=data.iloc[i,[0,1]].as_matrix())+1\n",
    "    \n",
    "confusion_matrix(y_true = results['cluster'].values.astype(int), y_pred = results['pred'].values)"
   ]
  },
  {
   "cell_type": "code",
   "execution_count": 124,
   "metadata": {
    "collapsed": true
   },
   "outputs": [],
   "source": [
    "path = 'D:/OneDrive/Online/SelfLearn/Ryerson/MSc/2018W/DS8004/Projects/P1'\n",
    "train = pd.read_csv(path+'/training.csv')\n",
    "test = pd.read_csv(path+'/testing.csv')\n",
    "train = train.loc[:,['class','b1', 'b4', 'b6', 'pred_minus_obs_H_b1', 'pred_minus_obs_H_b9']]\n",
    "test = test.loc[:,['class','b1', 'b4', 'b6', 'pred_minus_obs_H_b1', 'pred_minus_obs_H_b9']]\n",
    "train['class'] = train['class'].astype('category').cat.codes # d:0, h:1, o:2, s:3 \n",
    "test['class'] = test['class'].astype('category').cat.codes # d:0, h:1, o:2, s:3 \n"
   ]
  },
  {
   "cell_type": "code",
   "execution_count": 92,
   "metadata": {},
   "outputs": [
    {
     "name": "stdout",
     "output_type": "stream",
     "text": [
      "Entropy after epoch 1: 270.0554246238386\n"
     ]
    }
   ],
   "source": [
    "weights = logDiscrimination(step = 0.01, X=train.iloc[:,range(1,6)].as_matrix(), Y=train['class'].astype(int), totIter=1)"
   ]
  },
  {
   "cell_type": "code",
   "execution_count": 125,
   "metadata": {},
   "outputs": [
    {
     "name": "stdout",
     "output_type": "stream",
     "text": [
      "\\begin{tabular}{lrr}\n",
      "\\toprule\n",
      "{} &  Epoch &  Accuracy \\\\\n",
      "\\midrule\n",
      "0 &     10 &  0.707692 \\\\\n",
      "1 &     25 &  0.707692 \\\\\n",
      "2 &     50 &  0.707692 \\\\\n",
      "3 &    100 &  0.707692 \\\\\n",
      "4 &    200 &  0.707692 \\\\\n",
      "\\bottomrule\n",
      "\\end{tabular}\n",
      "\n"
     ]
    }
   ],
   "source": [
    "iterCount = [10, 25, 50, 100, 200]\n",
    "\n",
    "table = pd.DataFrame(columns=['Epoch', 'Accuracy'])\n",
    "\n",
    "for j in iterCount:\n",
    "    weights = logDiscrimination(step = 0.01, X=train.iloc[:,range(1,6)].as_matrix(), \\\n",
    "                                Y=train['class'].astype(int), totIter=i, decay=0.99)\n",
    "    results = test.copy()\n",
    "    results['pred'] = np.repeat(-1, test.shape[0])\n",
    "\n",
    "    max_ = np.max(train.iloc[:,range(1,6)].as_matrix(),axis=0)\n",
    "    min_ = np.min(train.iloc[:,range(1,6)].as_matrix(),axis=0)\n",
    "    testNormalized = (test.iloc[:,range(1,6)].as_matrix() - min_)/(max_ - min_)\n",
    "\n",
    "    for i in range(results.shape[0]):\n",
    "        results.iloc[i,6] = prediction(w=weights, x=testNormalized[i,:])\n",
    "        \n",
    "    table = table.append({'Epoch': int(j), \n",
    "                          'Accuracy':accuracy_score(y_true=results['class'].values, \n",
    "                                                  y_pred=results['pred'].values)}, ignore_index=True)\n",
    "\n",
    "table['Epoch'] = table['Epoch'].astype('int64')\n",
    "print(table.to_latex())"
   ]
  },
  {
   "cell_type": "code",
   "execution_count": 23,
   "metadata": {
    "collapsed": true
   },
   "outputs": [],
   "source": [
    "hidden = 60 # 60\n",
    "epoch = 350 # 350 \n",
    "v,w = backprop(X=train.iloc[:,range(1,6)].as_matrix(),\n",
    "               Y= train['class'].astype(int), step=0.1, H=hidden, epoch=epoch, decay=1)"
   ]
  },
  {
   "cell_type": "code",
   "execution_count": 110,
   "metadata": {},
   "outputs": [
    {
     "name": "stdout",
     "output_type": "stream",
     "text": [
      "\\begin{tabular}{lrrr}\n",
      "\\toprule\n",
      "{} &  Hidden State &  Epoch &  Accuracy \\\\\n",
      "\\midrule\n",
      "0  &            30 &    200 &  0.753846 \\\\\n",
      "1  &            30 &    300 &  0.756923 \\\\\n",
      "2  &            30 &    400 &  0.747692 \\\\\n",
      "3  &            30 &    500 &  0.772308 \\\\\n",
      "4  &            30 &    600 &  0.781538 \\\\\n",
      "5  &            40 &    200 &  0.720000 \\\\\n",
      "6  &            40 &    300 &  0.753846 \\\\\n",
      "7  &            40 &    400 &  0.772308 \\\\\n",
      "8  &            40 &    500 &  0.710769 \\\\\n",
      "9  &            40 &    600 &  0.741538 \\\\\n",
      "10 &            50 &    200 &  0.741538 \\\\\n",
      "11 &            50 &    300 &  0.756923 \\\\\n",
      "12 &            50 &    400 &  0.701538 \\\\\n",
      "13 &            50 &    500 &  0.778462 \\\\\n",
      "14 &            50 &    600 &  0.772308 \\\\\n",
      "15 &            60 &    200 &  0.747692 \\\\\n",
      "16 &            60 &    300 &  0.763077 \\\\\n",
      "17 &            60 &    400 &  0.738462 \\\\\n",
      "18 &            60 &    500 &  0.747692 \\\\\n",
      "19 &            60 &    600 &  0.775385 \\\\\n",
      "20 &            70 &    200 &  0.738462 \\\\\n",
      "21 &            70 &    300 &  0.732308 \\\\\n",
      "22 &            70 &    400 &  0.756923 \\\\\n",
      "23 &            70 &    500 &  0.766154 \\\\\n",
      "24 &            70 &    600 &  0.769231 \\\\\n",
      "\\bottomrule\n",
      "\\end{tabular}\n",
      "\n"
     ]
    }
   ],
   "source": [
    "hiddenCount = [30, 40, 50, 60, 70]\n",
    "iterCount = [200, 300, 400, 500, 600]\n",
    "table = pd.DataFrame(columns=['Hidden State', 'Epoch', 'Accuracy'])\n",
    "\n",
    "for s in hiddenCount:\n",
    "    for j in iterCount:\n",
    "        v,w = backprop(X=train.iloc[:,range(1,6)].as_matrix(),\n",
    "               Y= train['class'].astype(int), step=0.1, H=s, epoch=j, decay=1)\n",
    "        results = test.copy()\n",
    "        results['pred'] = np.repeat(-1, test.shape[0])\n",
    "\n",
    "        max_ = np.max(train.iloc[:,range(1,6)].as_matrix(),axis=0)\n",
    "        min_ = np.min(train.iloc[:,range(1,6)].as_matrix(),axis=0)\n",
    "        testNormalized = (test.iloc[:,range(1,6)].as_matrix() - min_)/(max_ - min_)\n",
    "\n",
    "        for i in range(results.shape[0]):\n",
    "            results.iloc[i,6] = np.argmax(feedforward(v=v,w=w,x=testNormalized[i,:], H = s))\n",
    "\n",
    "        table = table.append({'Hidden State': int(s),\n",
    "                            'Epoch': int(j), \n",
    "                              'Accuracy':accuracy_score(y_true=results['class'].values, \n",
    "                                                      y_pred=results['pred'].values)}, ignore_index=True)\n",
    "\n",
    "table['Hidden State'] = table['Hidden State'].astype('int64')\n",
    "table['Epoch'] = table['Epoch'].astype('int64')\n",
    "print(table.to_latex())"
   ]
  },
  {
   "cell_type": "code",
   "execution_count": 24,
   "metadata": {},
   "outputs": [
    {
     "name": "stdout",
     "output_type": "stream",
     "text": [
      "[[ 60   2  11  32]\n",
      " [  0  32   0   6]\n",
      " [  7   0  35   4]\n",
      " [  7   9   0 120]]\n",
      "0.76\n"
     ]
    }
   ],
   "source": [
    "results2 = test.copy()\n",
    "results2['pred'] = np.repeat(-1, results2.shape[0])\n",
    "max_ = np.max(train.iloc[:,range(1,6)].as_matrix(),axis=0)\n",
    "min_ = np.min(train.iloc[:,range(1,6)].as_matrix(),axis=0)\n",
    "testNormalized = (test.iloc[:,range(1,6)].as_matrix() - min_)/(max_ - min_)\n",
    "\n",
    "for i in range(results2.shape[0]):\n",
    "    results2.iloc[i,6] = np.argmax(feedforward(v=v,w=w,x=testNormalized[i,:], H = hidden))\n",
    "\n",
    "print(confusion_matrix(y_true = results2['class'].values.astype(int), y_pred = results2['pred'].values))\n",
    "print(accuracy_score(y_true=results2['class'].values, y_pred=results2['pred'].values))"
   ]
  },
  {
   "cell_type": "code",
   "execution_count": 112,
   "metadata": {
    "collapsed": true
   },
   "outputs": [],
   "source": [
    "path = 'D:/OneDrive/Online/SelfLearn/Ryerson/MSc/2018W/DS8004/Projects/P1'\n",
    "data = pd.read_csv(path+'/Data_Cortex_Nuclear.csv')\n",
    "data['MouseID2'] = [x.partition(\"_\")[0] for x in data.MouseID]\n",
    "data = data.loc[:,['class', 'MouseID', 'MouseID2', 'ADARB1_N', 'EGR1_N', 'ELK_N', 'MEK_N', 'CAMKII_N']]\n",
    "data['class2'] = data['class'].astype('category').cat.codes\n",
    "data = data.dropna()"
   ]
  },
  {
   "cell_type": "code",
   "execution_count": 113,
   "metadata": {
    "collapsed": true
   },
   "outputs": [],
   "source": [
    "random.seed(42)\n",
    "idx = random.sample(range(data.shape[0]), data.shape[0])\n",
    "idxTrain = idx[0:int(data.shape[0]*0.7)]\n",
    "idxTest = idx[int(data.shape[0]*0.7):data.shape[0]]\n",
    "\n",
    "train = data.iloc[idxTrain].reset_index(drop=True)\n",
    "test = data.iloc[idxTest].reset_index(drop=True)"
   ]
  },
  {
   "cell_type": "code",
   "execution_count": 122,
   "metadata": {},
   "outputs": [
    {
     "name": "stdout",
     "output_type": "stream",
     "text": [
      "\\begin{tabular}{lrr}\n",
      "\\toprule\n",
      "{} &  Epoch &  Accuracy \\\\\n",
      "\\midrule\n",
      "0 &     10 &  0.272031 \\\\\n",
      "1 &     25 &  0.272031 \\\\\n",
      "2 &     50 &  0.272031 \\\\\n",
      "3 &    100 &  0.272031 \\\\\n",
      "4 &    200 &  0.272031 \\\\\n",
      "5 &    500 &  0.272031 \\\\\n",
      "\\bottomrule\n",
      "\\end{tabular}\n",
      "\n"
     ]
    }
   ],
   "source": [
    "iterCount = [10, 25, 50, 100, 200, 500]\n",
    "table = pd.DataFrame(columns=['Epoch', 'Accuracy'])\n",
    "\n",
    "for j in iterCount:\n",
    "    weights = logDiscrimination(step = 0.01, X=train.iloc[:,range(3,8)].as_matrix(), Y=train['class2'].astype(int), totIter=i, \n",
    "                                decay=0.99)\n",
    "    results = test.copy()\n",
    "    results['pred'] = np.repeat(-1, test.shape[0])\n",
    "\n",
    "    max_ = np.max(train.iloc[:,range(3,8)].as_matrix(),axis=0)\n",
    "    min_ = np.min(train.iloc[:,range(3,8)].as_matrix(),axis=0)\n",
    "    testNormalized = (test.iloc[:,range(3,8)].as_matrix() - min_)/(max_ - min_)\n",
    "\n",
    "    for i in range(results.shape[0]):\n",
    "        results.iloc[i,9] = prediction(w=weights, x=testNormalized[i,:])\n",
    "        \n",
    "    table = table.append({'Epoch': int(j), \n",
    "                          'Accuracy':accuracy_score(y_true=results['class2'].values, \n",
    "                                                  y_pred=results['pred'].values)}, ignore_index=True)\n",
    "\n",
    "table['Epoch'] = table['Epoch'].astype('int64')\n",
    "print(table.to_latex())"
   ]
  },
  {
   "cell_type": "code",
   "execution_count": 85,
   "metadata": {},
   "outputs": [
    {
     "name": "stdout",
     "output_type": "stream",
     "text": [
      "[[ 4  0  0 23  0  0  0  5]\n",
      " [ 5  0  0 18  0  0  0 10]\n",
      " [10  0  0  6  0  0  0 14]\n",
      " [11  0  0 26  0  0  0  4]\n",
      " [ 4  0  0 26  0  0  0  3]\n",
      " [ 6  0  0 15  0  0  0 10]\n",
      " [ 0  0  0 24  0  0  0  8]\n",
      " [ 5  0  0 10  0  0  0 14]]\n",
      "0.168582375479\n"
     ]
    }
   ],
   "source": [
    "weights = logDiscrimination(step = 0.01, X=train.iloc[:,range(3,8)].as_matrix(), Y=train['class2'].astype(int), totIter=100, decay=1)\n",
    "\n",
    "results = test.copy()\n",
    "results['pred'] = np.repeat(-1, test.shape[0])\n",
    "\n",
    "max_ = np.max(train.iloc[:,range(3,8)].as_matrix(),axis=0)\n",
    "min_ = np.min(train.iloc[:,range(3,8)].as_matrix(),axis=0)\n",
    "testNormalized = (test.iloc[:,range(3,8)].as_matrix() - min_)/(max_ - min_)\n",
    "\n",
    "for i in range(results.shape[0]):\n",
    "    results.iloc[i,9] = prediction(w=weights, x=testNormalized[i,:])\n",
    "\n",
    "print(confusion_matrix(y_true = results['class2'].values, y_pred = results['pred'].values))\n",
    "print(accuracy_score(y_true=results['class2'].values, y_pred=results['pred'].values))"
   ]
  },
  {
   "cell_type": "code",
   "execution_count": 121,
   "metadata": {},
   "outputs": [
    {
     "name": "stdout",
     "output_type": "stream",
     "text": [
      "\\begin{tabular}{lrrr}\n",
      "\\toprule\n",
      "{} &  Hidden State &  Epoch &  Accuracy \\\\\n",
      "\\midrule\n",
      "0  &            20 &    200 &  0.478927 \\\\\n",
      "1  &            20 &    300 &  0.471264 \\\\\n",
      "2  &            20 &    400 &  0.452107 \\\\\n",
      "3  &            20 &    500 &  0.482759 \\\\\n",
      "4  &            20 &    600 &  0.490421 \\\\\n",
      "5  &            30 &    200 &  0.440613 \\\\\n",
      "6  &            30 &    300 &  0.455939 \\\\\n",
      "7  &            30 &    400 &  0.498084 \\\\\n",
      "8  &            30 &    500 &  0.432950 \\\\\n",
      "9  &            30 &    600 &  0.463602 \\\\\n",
      "10 &            40 &    200 &  0.421456 \\\\\n",
      "11 &            40 &    300 &  0.421456 \\\\\n",
      "12 &            40 &    400 &  0.494253 \\\\\n",
      "13 &            40 &    500 &  0.463602 \\\\\n",
      "14 &            40 &    600 &  0.501916 \\\\\n",
      "15 &            50 &    200 &  0.429119 \\\\\n",
      "16 &            50 &    300 &  0.417625 \\\\\n",
      "17 &            50 &    400 &  0.528736 \\\\\n",
      "18 &            50 &    500 &  0.490421 \\\\\n",
      "19 &            50 &    600 &  0.471264 \\\\\n",
      "20 &            60 &    200 &  0.448276 \\\\\n",
      "21 &            60 &    300 &  0.436782 \\\\\n",
      "22 &            60 &    400 &  0.551724 \\\\\n",
      "23 &            60 &    500 &  0.482759 \\\\\n",
      "24 &            60 &    600 &  0.505747 \\\\\n",
      "\\bottomrule\n",
      "\\end{tabular}\n",
      "\n"
     ]
    }
   ],
   "source": [
    "hiddenCount = [20, 30, 40, 50, 60]\n",
    "iterCount = [200, 300, 400, 500, 600]\n",
    "table = pd.DataFrame(columns=['Hidden State', 'Epoch', 'Accuracy'])\n",
    "\n",
    "for s in hiddenCount:\n",
    "    for j in iterCount:\n",
    "        v,w = backprop(X=train.iloc[:,range(3,8)].as_matrix(),\n",
    "               Y= train['class2'].astype(int), step=0.1, H=s, epoch=j, decay=1)\n",
    "        results = test.copy()\n",
    "        results['pred'] = np.repeat(-1, test.shape[0])\n",
    "\n",
    "        max_ = np.max(train.iloc[:,range(3,8)].as_matrix(),axis=0)\n",
    "        min_ = np.min(train.iloc[:,range(3,8)].as_matrix(),axis=0)\n",
    "        testNormalized = (test.iloc[:,range(3,8)].as_matrix() - min_)/(max_ - min_)\n",
    "\n",
    "        for i in range(results.shape[0]):\n",
    "            results.iloc[i,9] = np.argmax(feedforward(v=v,w=w,x=testNormalized[i,:], H = s))\n",
    "\n",
    "        table = table.append({'Hidden State': int(s),\n",
    "                            'Epoch': int(j), \n",
    "                              'Accuracy':accuracy_score(y_true=results['class2'].values, \n",
    "                                                      y_pred=results['pred'].values)}, ignore_index=True)\n",
    "\n",
    "table['Hidden State'] = table['Hidden State'].astype('int64')\n",
    "table['Epoch'] = table['Epoch'].astype('int64')\n",
    "print(table.to_latex())"
   ]
  },
  {
   "cell_type": "code",
   "execution_count": 83,
   "metadata": {},
   "outputs": [
    {
     "name": "stdout",
     "output_type": "stream",
     "text": [
      "[[ 5  0  2 11  3  9  1  1]\n",
      " [ 0 13  2  9  1  4  0  4]\n",
      " [ 0  0 12  9  0  5  3  1]\n",
      " [ 0  1  3 26  0  0  9  2]\n",
      " [ 0  4  0  1  8 10  3  7]\n",
      " [ 0  0  0  2  0 21  1  7]\n",
      " [ 2  0  3 16  0  0 10  1]\n",
      " [ 0  1  2  4  1  1  0 20]]\n",
      "0.44061302682\n"
     ]
    }
   ],
   "source": [
    "hidden = 30 # 30\n",
    "epoch = 350 # 350 \n",
    "v,w = backprop(X=train.iloc[:,range(3,8)].as_matrix(),\n",
    "               Y= train['class2'].astype(int), step=0.1, H=hidden, epoch=epoch, decay=1)\n",
    "\n",
    "results2 = test.copy()\n",
    "results2['pred'] = np.repeat(-1, results2.shape[0])\n",
    "max_ = np.max(train.iloc[:,range(3,8)].as_matrix(),axis=0)\n",
    "min_ = np.min(train.iloc[:,range(3,8)].as_matrix(),axis=0)\n",
    "testNormalized = (test.iloc[:,range(3,8)].as_matrix() - min_)/(max_ - min_)\n",
    "\n",
    "for i in range(results2.shape[0]):\n",
    "    results2.iloc[i,9] = np.argmax(feedforward(v=v,w=w,x=testNormalized[i,:], H = hidden))\n",
    "\n",
    "print(confusion_matrix(y_true = results2['class2'].values.astype(int), y_pred = results2['pred'].values))\n",
    "print(accuracy_score(y_true=results2['class2'].values, y_pred=results2['pred'].values))"
   ]
  },
  {
   "cell_type": "code",
   "execution_count": null,
   "metadata": {
    "collapsed": true
   },
   "outputs": [],
   "source": [
    "######################################################"
   ]
  },
  {
   "cell_type": "code",
   "execution_count": 26,
   "metadata": {
    "collapsed": true
   },
   "outputs": [],
   "source": [
    "# If we wanted to randomly omit a single mouse\n",
    "classes = ['c-CS-s', 'c-CS-m', 'c-SC-s', 'c-SC-m', 't-CS-s', 't-CS-m', 't-SC-s', 't-SC-m']\n",
    "mouseList = data.loc[:,['MouseID2', 'class']].drop_duplicates().groupby('class')['MouseID2'].apply(list)\n",
    "classCount = mouseList.apply(len)\n",
    "\n",
    "testMouseIdx = mouseList.apply(lambda x: random.sample(range(len(x)), 1))\n",
    "testMouse = [mouseList[x][testMouseIdx[x][0]] for x in range(len(mouseList))]\n",
    "\n",
    "train = data[~data.loc[:,'MouseID2'].isin(testMouse)].reset_index(drop=True)  \n",
    "test = data[data.loc[:,'MouseID2'].isin(testMouse)].reset_index(drop=True) "
   ]
  },
  {
   "cell_type": "code",
   "execution_count": null,
   "metadata": {
    "collapsed": true
   },
   "outputs": [],
   "source": [
    "train.isnull.sum() # to count nulls by column"
   ]
  },
  {
   "cell_type": "code",
   "execution_count": null,
   "metadata": {
    "collapsed": true
   },
   "outputs": [],
   "source": [
    "testNormalized.shape"
   ]
  },
  {
   "cell_type": "code",
   "execution_count": 320,
   "metadata": {},
   "outputs": [
    {
     "name": "stdout",
     "output_type": "stream",
     "text": [
      "[[ 61   3   7  34]\n",
      " [  0  33   0   5]\n",
      " [ 12   1  30   3]\n",
      " [ 20  13   0 103]]\n",
      "0.698461538462\n"
     ]
    }
   ],
   "source": [
    "from sklearn.linear_model import LogisticRegression\n",
    "\n",
    "softmax_reg = LogisticRegression(multi_class=\"multinomial\",solver=\"lbfgs\", C=1)\n",
    "softmax_reg.fit(normalize(train.iloc[:,range(1,6)].as_matrix()), train['class'].astype(int))\n",
    "\n",
    "results = test.copy()\n",
    "results['pred'] = np.repeat(-1, test.shape[0])\n",
    "\n",
    "for i in range(results.shape[0]):\n",
    "    results.iloc[i,6] = softmax_reg.predict([testNormalized[i,:]])\n",
    "\n",
    "print(confusion_matrix(y_true = results['class'].values, y_pred = results['pred'].values))\n",
    "print(accuracy_score(y_true=results['class'].values, y_pred=results['pred'].values))"
   ]
  }
 ],
 "metadata": {
  "kernelspec": {
   "display_name": "Python 3",
   "language": "python",
   "name": "python3"
  },
  "language_info": {
   "codemirror_mode": {
    "name": "ipython",
    "version": 3
   },
   "file_extension": ".py",
   "mimetype": "text/x-python",
   "name": "python",
   "nbconvert_exporter": "python",
   "pygments_lexer": "ipython3",
   "version": "3.6.3"
  }
 },
 "nbformat": 4,
 "nbformat_minor": 2
}
