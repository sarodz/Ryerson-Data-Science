{
 "cells": [
  {
   "cell_type": "code",
   "execution_count": 81,
   "metadata": {
    "collapsed": true
   },
   "outputs": [],
   "source": [
    "import pandas as pd\n",
    "import numpy as np\n",
    "import random\n",
    "from hmmlearn import hmm\n",
    "from sklearn.metrics import precision_recall_fscore_support, accuracy_score\n",
    "random.seed(4242)\n",
    "\n",
    "temporal = pd.read_csv(\"D:/OneDrive/Online/SelfLearn/Ryerson/MSc/PaperReplication/temporal_activity.csv\", \n",
    "                       names = [\"bugID\", \"timeStamp\", \"activity\", \"cumDays\"])\n",
    "#temporal = pd.read_csv(\"C:/OneDrive/Online/SelfLearn/Ryerson/MSc/PaperReplication/temporal_activity.csv\", \n",
    "#                       names = [\"bugID\", \"timeStamp\", \"activity\", \"cumDays\"])\n",
    "activity = pd.read_csv(\"D:/OneDrive/Online/SelfLearn/Ryerson/MSc/PaperReplication/activity_description.csv\", \n",
    "                      names = [\"short\", \"description\"])\n",
    "#activity = pd.read_csv(\"C:/OneDrive/Online/SelfLearn/Ryerson/MSc/PaperReplication/activity_description.csv\", \n",
    "#                      names = [\"short\", \"description\"])\n",
    "\n",
    "threshold = temporal[temporal.loc[:,'activity'] == 'Z'].iloc[:,[0,3]]\n",
    "threshold['isSlow'] = np.where(threshold.cumDays > 60, 1, 0)\n",
    "activity['code'] = activity.index\n",
    "temporal = pd.merge(temporal, activity, left_on='activity', right_on='short')\n",
    "temporal = temporal.iloc[:,[0,1,2,3,6]]\n",
    "temporal = temporal.sort_values(by=['bugID', 'activity']).reset_index(drop=True)\n",
    "temporal = pd.merge(temporal, threshold.iloc[:,[0,2]].reset_index(drop=True), on='bugID')\n",
    "\n",
    "chans = np.unique(temporal.bugID.values)\n",
    "chanCount = len(chans)\n",
    "idx = set(range(chanCount))\n",
    "idxTrain = set(random.sample(range(chanCount), int(chanCount*0.6)))\n",
    "idxTest = idx - idxTrain\n",
    "\n",
    "train = temporal[temporal.bugID.isin(chans[list(idxTrain)])].reset_index(drop=True)\n",
    "test = temporal[temporal.bugID.isin(chans[list(idxTest)])].reset_index(drop=True)"
   ]
  },
  {
   "cell_type": "code",
   "execution_count": 85,
   "metadata": {},
   "outputs": [
    {
     "name": "stderr",
     "output_type": "stream",
     "text": [
      "C:\\Python\\Anaconda3\\lib\\site-packages\\hmmlearn\\hmm.py:405: RuntimeWarning: divide by zero encountered in log\n",
      "  return np.log(self.emissionprob_)[:, np.concatenate(X)].T\n",
      "C:\\Python\\Anaconda3\\lib\\site-packages\\hmmlearn\\base.py:459: RuntimeWarning: divide by zero encountered in log\n",
      "  np.log(self.transmat_),\n",
      "C:\\Python\\Anaconda3\\lib\\site-packages\\hmmlearn\\base.py:468: RuntimeWarning: divide by zero encountered in log\n",
      "  np.log(self.transmat_),\n",
      "C:\\Python\\Anaconda3\\lib\\site-packages\\hmmlearn\\base.py:623: RuntimeWarning: divide by zero encountered in log\n",
      "  np.log(self.transmat_),\n",
      "C:\\Python\\Anaconda3\\lib\\site-packages\\hmmlearn\\base.py:458: RuntimeWarning: divide by zero encountered in log\n",
      "  np.log(self.startprob_),\n",
      "C:\\Python\\Anaconda3\\lib\\site-packages\\hmmlearn\\base.py:467: RuntimeWarning: divide by zero encountered in log\n",
      "  np.log(self.startprob_),\n"
     ]
    }
   ],
   "source": [
    "X1 = train[train.isSlow == 1].code.values.reshape(-1,1)\n",
    "X2 = train[train.isSlow == 0].code.values.reshape(-1,1)\n",
    "lengths1 = train[train.isSlow == 1].groupby(['bugID']).count().code.tolist()\n",
    "lengths2 = train[train.isSlow == 0].groupby(['bugID']).count().code.tolist()\n",
    "\n",
    "slowModel_05 = hmm.MultinomialHMM(n_components = 5, random_state = 42, n_iter = 22).fit(X = X1, lengths = lengths1)\n",
    "fastModel_05 = hmm.MultinomialHMM(n_components = 5, random_state = 42, n_iter = 22).fit(X = X2, lengths = lengths2)\n",
    "\n",
    "slowModel_10 = hmm.MultinomialHMM(n_components = 10, random_state = 42, n_iter = 22).fit(X = X1, lengths = lengths1)\n",
    "fastModel_10 = hmm.MultinomialHMM(n_components = 10, random_state = 42, n_iter = 22).fit(X = X2, lengths = lengths2)\n",
    "\n",
    "slowModel_15 = hmm.MultinomialHMM(n_components = 15, random_state = 42, n_iter = 22).fit(X = X1, lengths = lengths1)\n",
    "fastModel_15 = hmm.MultinomialHMM(n_components = 15, random_state = 42, n_iter = 22).fit(X = X2, lengths = lengths2)"
   ]
  },
  {
   "cell_type": "code",
   "execution_count": 86,
   "metadata": {},
   "outputs": [
    {
     "name": "stderr",
     "output_type": "stream",
     "text": [
      "C:\\Python\\Anaconda3\\lib\\site-packages\\hmmlearn\\hmm.py:405: RuntimeWarning: divide by zero encountered in log\n",
      "  return np.log(self.emissionprob_)[:, np.concatenate(X)].T\n",
      "C:\\Python\\Anaconda3\\lib\\site-packages\\hmmlearn\\base.py:458: RuntimeWarning: divide by zero encountered in log\n",
      "  np.log(self.startprob_),\n",
      "C:\\Python\\Anaconda3\\lib\\site-packages\\hmmlearn\\base.py:459: RuntimeWarning: divide by zero encountered in log\n",
      "  np.log(self.transmat_),\n"
     ]
    }
   ],
   "source": [
    "activities = 2\n",
    "results1 = test.copy()\n",
    "results1.loc[:,'pred'] = pd.Series(np.repeat(-1, results1.shape[0]), index=results1.index)\n",
    "results1 = results1.loc[:,['bugID','isSlow', 'pred']].drop_duplicates().reset_index(drop=True)\n",
    "results2 = results1.copy()\n",
    "results3 = results1.copy()\n",
    "testChans = results1.bugID.values\n",
    "\n",
    "for i in range(len(testChans)):\n",
    "    temp = test[test.loc[:,'bugID'] == testChans[i]].code.values.reshape(-1,1)[0:activities]\n",
    "    results1.iloc[i,2] = np.where(slowModel_05.score(X = temp) > fastModel_05.score(X = temp), 1, 0)\n",
    "    results2.iloc[i,2] = np.where(slowModel_10.score(X = temp) > fastModel_10.score(X = temp), 1, 0)\n",
    "    results3.iloc[i,2] = np.where(slowModel_15.score(X = temp) > fastModel_15.score(X = temp), 1, 0)"
   ]
  },
  {
   "cell_type": "code",
   "execution_count": 87,
   "metadata": {
    "collapsed": true
   },
   "outputs": [],
   "source": [
    "precisionA2_H5, recallA2_H5, fscoreA2_H5, _  = precision_recall_fscore_support(y_true = results1.isSlow.values,\n",
    "                                                                y_pred = results1.pred.values)\n",
    "accuracyA2_H5 = accuracy_score(y_true = results1.isSlow.values,  y_pred = results1.pred.values)\n",
    "\n",
    "precisionA2_H10, recallA2_H10, fscoreA2_H10, _  = precision_recall_fscore_support(y_true = results2.isSlow.values,\n",
    "                                                                y_pred = results2.pred.values)\n",
    "accuracyA2_H10 = accuracy_score(y_true = results2.isSlow.values,  y_pred = results2.pred.values)\n",
    "\n",
    "precisionA2_H15, recallA2_H15, fscoreA2_H15, _  = precision_recall_fscore_support(y_true = results3.isSlow.values,\n",
    "                                                                y_pred = results3.pred.values)\n",
    "accuracyA2_H15 = accuracy_score(y_true = results3.isSlow.values,  y_pred = results3.pred.values)"
   ]
  },
  {
   "cell_type": "code",
   "execution_count": 88,
   "metadata": {},
   "outputs": [
    {
     "name": "stdout",
     "output_type": "stream",
     "text": [
      "2 Activity, 5 Hidden state\n",
      "Precision 0.5850839449928288\n",
      "Recall 0.5679305544181475\n",
      "FScore 0.5763796542553191\n",
      "Accuracy 0.7051797437603031\n",
      "============================================\n",
      "2 Activity, 10 Hidden state\n",
      "Precision 0.5585639942680444\n",
      "Recall 0.6065023339611826\n",
      "FScore 0.5815469179426778\n",
      "Accuracy 0.6917604187754866\n",
      "============================================\n",
      "2 Activity, 15 Hidden state\n",
      "Precision 0.57385819227084\n",
      "Recall 0.5885676848742937\n",
      "FScore 0.5811198706286639\n",
      "Accuracy 0.7003499436041299\n"
     ]
    }
   ],
   "source": [
    "print('2 Activity, 5 Hidden state')\n",
    "print('Precision {0}'.format(precisionA2_H5[1]))\n",
    "print('Recall {0}'.format(recallA2_H5[1]))\n",
    "print('FScore {0}'.format(fscoreA2_H5[1]))\n",
    "print('Accuracy {0}'.format(accuracyA2_H5))\n",
    "print('============================================')\n",
    "print('2 Activity, 10 Hidden state')\n",
    "print('Precision {0}'.format(precisionA2_H10[1]))\n",
    "print('Recall {0}'.format(recallA2_H10[1]))\n",
    "print('FScore {0}'.format(fscoreA2_H10[1]))\n",
    "print('Accuracy {0}'.format(accuracyA2_H10))\n",
    "print('============================================')\n",
    "print('2 Activity, 15 Hidden state')\n",
    "print('Precision {0}'.format(precisionA2_H15[1]))\n",
    "print('Recall {0}'.format(recallA2_H15[1]))\n",
    "print('FScore {0}'.format(fscoreA2_H15[1]))\n",
    "print('Accuracy {0}'.format(accuracyA2_H15))"
   ]
  },
  {
   "cell_type": "code",
   "execution_count": 89,
   "metadata": {},
   "outputs": [
    {
     "name": "stderr",
     "output_type": "stream",
     "text": [
      "C:\\Python\\Anaconda3\\lib\\site-packages\\hmmlearn\\hmm.py:405: RuntimeWarning: divide by zero encountered in log\n",
      "  return np.log(self.emissionprob_)[:, np.concatenate(X)].T\n",
      "C:\\Python\\Anaconda3\\lib\\site-packages\\hmmlearn\\base.py:458: RuntimeWarning: divide by zero encountered in log\n",
      "  np.log(self.startprob_),\n",
      "C:\\Python\\Anaconda3\\lib\\site-packages\\hmmlearn\\base.py:459: RuntimeWarning: divide by zero encountered in log\n",
      "  np.log(self.transmat_),\n"
     ]
    }
   ],
   "source": [
    "activities = 3\n",
    "results1 = test.copy()\n",
    "results1.loc[:,'pred'] = pd.Series(np.repeat(-1, results1.shape[0]), index=results1.index)\n",
    "results1 = results1.loc[:,['bugID','isSlow', 'pred']].drop_duplicates().reset_index(drop=True)\n",
    "results2 = results1.copy()\n",
    "results3 = results1.copy()\n",
    "testChans = results1.bugID.values\n",
    "\n",
    "for i in range(len(testChans)):\n",
    "    temp = test[test.loc[:,'bugID'] == testChans[i]].code.values.reshape(-1,1)[0:activities]\n",
    "    results1.iloc[i,2] = np.where(slowModel_05.score(X = temp) > fastModel_05.score(X = temp), 1, 0)\n",
    "    results2.iloc[i,2] = np.where(slowModel_10.score(X = temp) > fastModel_10.score(X = temp), 1, 0)\n",
    "    results3.iloc[i,2] = np.where(slowModel_15.score(X = temp) > fastModel_15.score(X = temp), 1, 0)"
   ]
  },
  {
   "cell_type": "code",
   "execution_count": 90,
   "metadata": {
    "collapsed": true
   },
   "outputs": [],
   "source": [
    "precisionA3_H5, recallA3_H5, fscoreA3_H5, _  = precision_recall_fscore_support(y_true = results1.isSlow.values,\n",
    "                                                                y_pred = results1.pred.values)\n",
    "accuracyA3_H5 = accuracy_score(y_true = results1.isSlow.values,  y_pred = results1.pred.values)\n",
    "\n",
    "precisionA3_H10, recallA3_H10, fscoreA3_H10, _  = precision_recall_fscore_support(y_true = results2.isSlow.values,\n",
    "                                                                y_pred = results2.pred.values)\n",
    "accuracyA3_H10 = accuracy_score(y_true = results2.isSlow.values,  y_pred = results2.pred.values)\n",
    "\n",
    "precisionA3_H15, recallA3_H15, fscoreA3_H15, _  = precision_recall_fscore_support(y_true = results3.isSlow.values,\n",
    "                                                                y_pred = results3.pred.values)\n",
    "accuracyA3_H15 = accuracy_score(y_true = results3.isSlow.values,  y_pred = results3.pred.values)"
   ]
  },
  {
   "cell_type": "code",
   "execution_count": 91,
   "metadata": {},
   "outputs": [
    {
     "name": "stdout",
     "output_type": "stream",
     "text": [
      "3 Activity, 5 Hidden state\n",
      "Precision 0.5569649446494465\n",
      "Recall 0.7910900008189338\n",
      "FScore 0.6536964980544746\n",
      "Accuracy 0.7039939844405241\n",
      "============================================\n",
      "3 Activity, 10 Hidden state\n",
      "Precision 0.6126649798263011\n",
      "Recall 0.7336827450659241\n",
      "FScore 0.6677349631065068\n",
      "Accuracy 0.7421407293865865\n",
      "============================================\n",
      "3 Activity, 15 Hidden state\n",
      "Precision 0.6233357193987116\n",
      "Recall 0.713127507984604\n",
      "FScore 0.6652152324204577\n",
      "Accuracy 0.7465077941984556\n"
     ]
    }
   ],
   "source": [
    "print('3 Activity, 5 Hidden state')\n",
    "print('Precision {0}'.format(precisionA3_H5[1]))\n",
    "print('Recall {0}'.format(recallA3_H5[1]))\n",
    "print('FScore {0}'.format(fscoreA3_H5[1]))\n",
    "print('Accuracy {0}'.format(accuracyA3_H5))\n",
    "print('============================================')\n",
    "print('3 Activity, 10 Hidden state')\n",
    "print('Precision {0}'.format(precisionA3_H10[1]))\n",
    "print('Recall {0}'.format(recallA3_H10[1]))\n",
    "print('FScore {0}'.format(fscoreA3_H10[1]))\n",
    "print('Accuracy {0}'.format(accuracyA3_H10))\n",
    "print('============================================')\n",
    "print('3 Activity, 15 Hidden state')\n",
    "print('Precision {0}'.format(precisionA3_H15[1]))\n",
    "print('Recall {0}'.format(recallA3_H15[1]))\n",
    "print('FScore {0}'.format(fscoreA3_H15[1]))\n",
    "print('Accuracy {0}'.format(accuracyA3_H15))"
   ]
  },
  {
   "cell_type": "code",
   "execution_count": 92,
   "metadata": {},
   "outputs": [
    {
     "name": "stderr",
     "output_type": "stream",
     "text": [
      "C:\\Python\\Anaconda3\\lib\\site-packages\\hmmlearn\\hmm.py:405: RuntimeWarning: divide by zero encountered in log\n",
      "  return np.log(self.emissionprob_)[:, np.concatenate(X)].T\n",
      "C:\\Python\\Anaconda3\\lib\\site-packages\\hmmlearn\\base.py:458: RuntimeWarning: divide by zero encountered in log\n",
      "  np.log(self.startprob_),\n",
      "C:\\Python\\Anaconda3\\lib\\site-packages\\hmmlearn\\base.py:459: RuntimeWarning: divide by zero encountered in log\n",
      "  np.log(self.transmat_),\n"
     ]
    }
   ],
   "source": [
    "activities = 4\n",
    "results1 = test.copy()\n",
    "results1.loc[:,'pred'] = pd.Series(np.repeat(-1, results1.shape[0]), index=results1.index)\n",
    "results1 = results1.loc[:,['bugID','isSlow', 'pred']].drop_duplicates().reset_index(drop=True)\n",
    "results2 = results1.copy()\n",
    "results3 = results1.copy()\n",
    "testChans = results1.bugID.values\n",
    "\n",
    "for i in range(len(testChans)):\n",
    "    temp = test[test.loc[:,'bugID'] == testChans[i]].code.values.reshape(-1,1)[0:activities]\n",
    "    results1.iloc[i,2] = np.where(slowModel_05.score(X = temp) > fastModel_05.score(X = temp), 1, 0)\n",
    "    results2.iloc[i,2] = np.where(slowModel_10.score(X = temp) > fastModel_10.score(X = temp), 1, 0)\n",
    "    results3.iloc[i,2] = np.where(slowModel_15.score(X = temp) > fastModel_15.score(X = temp), 1, 0)"
   ]
  },
  {
   "cell_type": "code",
   "execution_count": 93,
   "metadata": {
    "collapsed": true
   },
   "outputs": [],
   "source": [
    "precisionA4_H5, recallA4_H5, fscoreA4_H5, _  = precision_recall_fscore_support(y_true = results1.isSlow.values,\n",
    "                                                                y_pred = results1.pred.values)\n",
    "accuracyA4_H5 = accuracy_score(y_true = results1.isSlow.values,  y_pred = results1.pred.values)\n",
    "\n",
    "precisionA4_H10, recallA4_H10, fscoreA4_H10, _  = precision_recall_fscore_support(y_true = results2.isSlow.values,\n",
    "                                                                y_pred = results2.pred.values)\n",
    "accuracyA4_H10 = accuracy_score(y_true = results2.isSlow.values,  y_pred = results2.pred.values)\n",
    "\n",
    "precisionA4_H15, recallA4_H15, fscoreA4_H15, _  = precision_recall_fscore_support(y_true = results3.isSlow.values,\n",
    "                                                                y_pred = results3.pred.values)\n",
    "accuracyA4_H15 = accuracy_score(y_true = results3.isSlow.values,  y_pred = results3.pred.values)"
   ]
  },
  {
   "cell_type": "code",
   "execution_count": 94,
   "metadata": {},
   "outputs": [
    {
     "name": "stdout",
     "output_type": "stream",
     "text": [
      "4 Activity, 5 Hidden state\n",
      "Precision 0.6048638684061259\n",
      "Recall 0.6986323806404062\n",
      "FScore 0.6483754512635379\n",
      "Accuracy 0.7323943661971831\n",
      "============================================\n",
      "4 Activity, 10 Hidden state\n",
      "Precision 0.6121879888458138\n",
      "Recall 0.7371222668086151\n",
      "FScore 0.6688712194396969\n",
      "Accuracy 0.7422564132226624\n",
      "============================================\n",
      "4 Activity, 15 Hidden state\n",
      "Precision 0.6312354988399071\n",
      "Recall 0.7129637212349521\n",
      "FScore 0.6696150444179517\n",
      "Accuracy 0.7515400410677618\n"
     ]
    }
   ],
   "source": [
    "print('4 Activity, 5 Hidden state')\n",
    "print('Precision {0}'.format(precisionA4_H5[1]))\n",
    "print('Recall {0}'.format(recallA4_H5[1]))\n",
    "print('FScore {0}'.format(fscoreA4_H5[1]))\n",
    "print('Accuracy {0}'.format(accuracyA4_H5))\n",
    "print('============================================')\n",
    "print('4 Activity, 10 Hidden state')\n",
    "print('Precision {0}'.format(precisionA4_H10[1]))\n",
    "print('Recall {0}'.format(recallA4_H10[1]))\n",
    "print('FScore {0}'.format(fscoreA4_H10[1]))\n",
    "print('Accuracy {0}'.format(accuracyA4_H10))\n",
    "print('============================================')\n",
    "print('4 Activity, 15 Hidden state')\n",
    "print('Precision {0}'.format(precisionA4_H15[1]))\n",
    "print('Recall {0}'.format(recallA4_H15[1]))\n",
    "print('FScore {0}'.format(fscoreA4_H15[1]))\n",
    "print('Accuracy {0}'.format(accuracyA4_H15))"
   ]
  },
  {
   "cell_type": "code",
   "execution_count": 95,
   "metadata": {},
   "outputs": [
    {
     "name": "stderr",
     "output_type": "stream",
     "text": [
      "C:\\Python\\Anaconda3\\lib\\site-packages\\hmmlearn\\hmm.py:405: RuntimeWarning: divide by zero encountered in log\n",
      "  return np.log(self.emissionprob_)[:, np.concatenate(X)].T\n",
      "C:\\Python\\Anaconda3\\lib\\site-packages\\hmmlearn\\base.py:458: RuntimeWarning: divide by zero encountered in log\n",
      "  np.log(self.startprob_),\n",
      "C:\\Python\\Anaconda3\\lib\\site-packages\\hmmlearn\\base.py:459: RuntimeWarning: divide by zero encountered in log\n",
      "  np.log(self.transmat_),\n"
     ]
    }
   ],
   "source": [
    "activities = 5\n",
    "results1 = test.copy()\n",
    "results1.loc[:,'pred'] = pd.Series(np.repeat(-1, results1.shape[0]), index=results1.index)\n",
    "results1 = results1.loc[:,['bugID','isSlow', 'pred']].drop_duplicates().reset_index(drop=True)\n",
    "results2 = results1.copy()\n",
    "results3 = results1.copy()\n",
    "testChans = results1.bugID.values\n",
    "\n",
    "for i in range(len(testChans)):\n",
    "    temp = test[test.loc[:,'bugID'] == testChans[i]].code.values.reshape(-1,1)[0:activities]\n",
    "    results1.iloc[i,2] = np.where(slowModel_05.score(X = temp) > fastModel_05.score(X = temp), 1, 0)\n",
    "    results2.iloc[i,2] = np.where(slowModel_10.score(X = temp) > fastModel_10.score(X = temp), 1, 0)\n",
    "    results3.iloc[i,2] = np.where(slowModel_15.score(X = temp) > fastModel_15.score(X = temp), 1, 0)"
   ]
  },
  {
   "cell_type": "code",
   "execution_count": 96,
   "metadata": {
    "collapsed": true
   },
   "outputs": [],
   "source": [
    "precisionA5_H5, recallA5_H5, fscoreA5_H5, _  = precision_recall_fscore_support(y_true = results1.isSlow.values,\n",
    "                                                                y_pred = results1.pred.values)\n",
    "accuracyA5_H5 = accuracy_score(y_true = results1.isSlow.values,  y_pred = results1.pred.values)\n",
    "\n",
    "precisionA5_H10, recallA5_H10, fscoreA5_H10, _  = precision_recall_fscore_support(y_true = results2.isSlow.values,\n",
    "                                                                y_pred = results2.pred.values)\n",
    "accuracyA5_H10 = accuracy_score(y_true = results2.isSlow.values,  y_pred = results2.pred.values)\n",
    "\n",
    "precisionA5_H15, recallA5_H15, fscoreA5_H15, _  = precision_recall_fscore_support(y_true = results3.isSlow.values,\n",
    "                                                                y_pred = results3.pred.values)\n",
    "accuracyA5_H15 = accuracy_score(y_true = results3.isSlow.values,  y_pred = results3.pred.values)"
   ]
  },
  {
   "cell_type": "code",
   "execution_count": 97,
   "metadata": {},
   "outputs": [
    {
     "name": "stdout",
     "output_type": "stream",
     "text": [
      "5 Activity, 5 Hidden state\n",
      "Precision 0.6151122441753417\n",
      "Recall 0.7113258537384326\n",
      "FScore 0.6597296065623576\n",
      "Accuracy 0.7408682071897504\n",
      "============================================\n",
      "5 Activity, 10 Hidden state\n",
      "Precision 0.6088654425870101\n",
      "Recall 0.7277864220784539\n",
      "FScore 0.6630357742380723\n",
      "Accuracy 0.7387569771813634\n",
      "============================================\n",
      "5 Activity, 15 Hidden state\n",
      "Precision 0.6313061254289261\n",
      "Recall 0.7081320121202195\n",
      "FScore 0.6675158252277289\n",
      "Accuracy 0.7508748590103248\n"
     ]
    }
   ],
   "source": [
    "print('5 Activity, 5 Hidden state')\n",
    "print('Precision {0}'.format(precisionA5_H5[1]))\n",
    "print('Recall {0}'.format(recallA5_H5[1]))\n",
    "print('FScore {0}'.format(fscoreA5_H5[1]))\n",
    "print('Accuracy {0}'.format(accuracyA5_H5))\n",
    "print('============================================')\n",
    "print('5 Activity, 10 Hidden state')\n",
    "print('Precision {0}'.format(precisionA5_H10[1]))\n",
    "print('Recall {0}'.format(recallA5_H10[1]))\n",
    "print('FScore {0}'.format(fscoreA5_H10[1]))\n",
    "print('Accuracy {0}'.format(accuracyA5_H10))\n",
    "print('============================================')\n",
    "print('5 Activity, 15 Hidden state')\n",
    "print('Precision {0}'.format(precisionA5_H15[1]))\n",
    "print('Recall {0}'.format(recallA5_H15[1]))\n",
    "print('FScore {0}'.format(fscoreA5_H15[1]))\n",
    "print('Accuracy {0}'.format(accuracyA5_H15))"
   ]
  },
  {
   "cell_type": "code",
   "execution_count": 98,
   "metadata": {},
   "outputs": [
    {
     "name": "stderr",
     "output_type": "stream",
     "text": [
      "C:\\Python\\Anaconda3\\lib\\site-packages\\hmmlearn\\hmm.py:405: RuntimeWarning: divide by zero encountered in log\n",
      "  return np.log(self.emissionprob_)[:, np.concatenate(X)].T\n",
      "C:\\Python\\Anaconda3\\lib\\site-packages\\hmmlearn\\base.py:458: RuntimeWarning: divide by zero encountered in log\n",
      "  np.log(self.startprob_),\n",
      "C:\\Python\\Anaconda3\\lib\\site-packages\\hmmlearn\\base.py:459: RuntimeWarning: divide by zero encountered in log\n",
      "  np.log(self.transmat_),\n"
     ]
    }
   ],
   "source": [
    "activities = 6\n",
    "results1 = test.copy()\n",
    "results1.loc[:,'pred'] = pd.Series(np.repeat(-1, results1.shape[0]), index=results1.index)\n",
    "results1 = results1.loc[:,['bugID','isSlow', 'pred']].drop_duplicates().reset_index(drop=True)\n",
    "results2 = results1.copy()\n",
    "results3 = results1.copy()\n",
    "testChans = results1.bugID.values\n",
    "\n",
    "for i in range(len(testChans)):\n",
    "    temp = test[test.loc[:,'bugID'] == testChans[i]].code.values.reshape(-1,1)[0:activities]\n",
    "    results1.iloc[i,2] = np.where(slowModel_05.score(X = temp) > fastModel_05.score(X = temp), 1, 0)\n",
    "    results2.iloc[i,2] = np.where(slowModel_10.score(X = temp) > fastModel_10.score(X = temp), 1, 0)\n",
    "    results3.iloc[i,2] = np.where(slowModel_15.score(X = temp) > fastModel_15.score(X = temp), 1, 0)"
   ]
  },
  {
   "cell_type": "code",
   "execution_count": 99,
   "metadata": {
    "collapsed": true
   },
   "outputs": [],
   "source": [
    "precisionA6_H5, recallA6_H5, fscoreA6_H5, _  = precision_recall_fscore_support(y_true = results1.isSlow.values,\n",
    "                                                                y_pred = results1.pred.values)\n",
    "accuracyA6_H5 = accuracy_score(y_true = results1.isSlow.values,  y_pred = results1.pred.values)\n",
    "\n",
    "precisionA6_H10, recallA6_H10, fscoreA6_H10, _  = precision_recall_fscore_support(y_true = results2.isSlow.values,\n",
    "                                                                y_pred = results2.pred.values)\n",
    "accuracyA6_H10 = accuracy_score(y_true = results2.isSlow.values,  y_pred = results2.pred.values)\n",
    "\n",
    "precisionA6_H15, recallA6_H15, fscoreA6_H15, _  = precision_recall_fscore_support(y_true = results3.isSlow.values,\n",
    "                                                                y_pred = results3.pred.values)\n",
    "accuracyA6_H15 = accuracy_score(y_true = results3.isSlow.values,  y_pred = results3.pred.values)"
   ]
  },
  {
   "cell_type": "code",
   "execution_count": 100,
   "metadata": {},
   "outputs": [
    {
     "name": "stdout",
     "output_type": "stream",
     "text": [
      "6 Activity, 5 Hidden state\n",
      "Precision 0.6198581560283688\n",
      "Recall 0.7157480959790353\n",
      "FScore 0.6643609136862909\n",
      "Accuracy 0.7445990109032016\n",
      "============================================\n",
      "6 Activity, 10 Hidden state\n",
      "Precision 0.6026507979442791\n",
      "Recall 0.7298337564491033\n",
      "FScore 0.6601725989851477\n",
      "Accuracy 0.7346502010006651\n",
      "============================================\n",
      "6 Activity, 15 Hidden state\n",
      "Precision 0.6290919648689846\n",
      "Recall 0.709769879616739\n",
      "FScore 0.6670001539171925\n",
      "Accuracy 0.7497180206495647\n"
     ]
    }
   ],
   "source": [
    "print('6 Activity, 5 Hidden state')\n",
    "print('Precision {0}'.format(precisionA6_H5[1]))\n",
    "print('Recall {0}'.format(recallA6_H5[1]))\n",
    "print('FScore {0}'.format(fscoreA6_H5[1]))\n",
    "print('Accuracy {0}'.format(accuracyA6_H5))\n",
    "print('============================================')\n",
    "print('6 Activity, 10 Hidden state')\n",
    "print('Precision {0}'.format(precisionA6_H10[1]))\n",
    "print('Recall {0}'.format(recallA6_H10[1]))\n",
    "print('FScore {0}'.format(fscoreA6_H10[1]))\n",
    "print('Accuracy {0}'.format(accuracyA6_H10))\n",
    "print('============================================')\n",
    "print('6 Activity, 15 Hidden state')\n",
    "print('Precision {0}'.format(precisionA6_H15[1]))\n",
    "print('Recall {0}'.format(recallA6_H15[1]))\n",
    "print('FScore {0}'.format(fscoreA6_H15[1]))\n",
    "print('Accuracy {0}'.format(accuracyA6_H15))"
   ]
  }
 ],
 "metadata": {
  "kernelspec": {
   "display_name": "Python [default]",
   "language": "python",
   "name": "python3"
  },
  "language_info": {
   "codemirror_mode": {
    "name": "ipython",
    "version": 3
   },
   "file_extension": ".py",
   "mimetype": "text/x-python",
   "name": "python",
   "nbconvert_exporter": "python",
   "pygments_lexer": "ipython3",
   "version": "3.6.3"
  }
 },
 "nbformat": 4,
 "nbformat_minor": 2
}
