{
 "cells": [
  {
   "cell_type": "code",
   "execution_count": 1,
   "metadata": {
    "collapsed": true
   },
   "outputs": [],
   "source": [
    "import pandas as pd\n",
    "import numpy as np\n",
    "import random\n",
    "from hmmlearn import hmm\n",
    "from sklearn.metrics import precision_recall_fscore_support, accuracy_score\n",
    "\n",
    "random.seed(4242)\n",
    "\n",
    "#UPDATE PATH!\n",
    "temporal = pd.read_csv(\"D:/OneDrive/Online/SelfLearn/Ryerson/MSc/PaperReplication/temporal_activity.csv\", \n",
    "                       names = [\"bugID\", \"timeStamp\", \"activity\", \"cumDays\"])\n",
    "activity = pd.read_csv(\"D:/OneDrive/Online/SelfLearn/Ryerson/MSc/PaperReplication/activity_description.csv\", \n",
    "                      names = [\"short\", \"description\"])\n",
    "\n",
    "# Identify short/fast days based on paper's definition\n",
    "days = temporal.loc[:,['bugID', 'cumDays']].groupby(by='bugID').max()\n",
    "days['isSlow'] = np.where(days.cumDays > 60, 1, 0)\n",
    "# Provide a number for each activity\n",
    "activity['code'] = activity.index \n",
    "temporal = pd.merge(temporal, activity, left_on='activity', right_on='short')\n",
    "temporal = temporal.iloc[:,[0,1,2,3,6]]\n",
    "temporal = temporal.sort_values(by=['bugID', 'timeStamp']).reset_index(drop=True)\n",
    "# Insert isSlow flag\n",
    "temporal = pd.merge(temporal, days.iloc[:,[1]], left_on='bugID', right_index=True)\n",
    "\n",
    "temporal = temporal[temporal.activity != 'Z'] # Remove Zs - based on code\n",
    "zeroChans = days[days.cumDays == 0].index.values # identify zero day bugs\n",
    "openMask = temporal.activity.isin(['N', 'M', 'E']) # starting day - I have put this mask to match the results of Table 6"
   ]
  },
  {
   "cell_type": "code",
   "execution_count": 2,
   "metadata": {
    "collapsed": true
   },
   "outputs": [],
   "source": [
    "iterCount = 5\n",
    "activities = 4\n",
    "initCount = 40\n",
    "numStates = 5\n",
    "outputCount = len(np.unique(temporal.activity.values))\n",
    "results = pd.DataFrame(columns=['Year', 'Precision', 'Recall', 'F-Score', 'Accuracy'])\n",
    "\n",
    "# Initilize matrix once so that the change in results is not caused by the initilizations\n",
    "np.random.seed(4242)\n",
    "emissionprob = np.random.randint(low=1, high = 2000, size=(numStates,outputCount))\n",
    "emissionprob = emissionprob/emissionprob.sum(axis=1, keepdims=True)\n",
    "\n",
    "transmat = np.random.randint(low=1, high = 2000, size=(numStates,numStates))\n",
    "transmat = transmat/transmat.sum(axis=1, keepdims=True)\n",
    "\n",
    "startprob = np.random.randint(low=1, high = 2000, size=numStates)\n",
    "startprob = startprob/startprob.sum(keepdims=True)"
   ]
  },
  {
   "cell_type": "code",
   "execution_count": 3,
   "metadata": {},
   "outputs": [
    {
     "name": "stdout",
     "output_type": "stream",
     "text": [
      "Working on 2007\n",
      "0th iteration\n",
      "8th iteration\n",
      "16th iteration\n",
      "24th iteration\n",
      "32th iteration\n",
      "Working on 2008\n",
      "0th iteration\n",
      "8th iteration\n",
      "16th iteration\n",
      "24th iteration\n",
      "32th iteration\n",
      "Working on 2009\n",
      "0th iteration\n",
      "8th iteration\n",
      "16th iteration\n",
      "24th iteration\n",
      "32th iteration\n",
      "Working on 2010\n",
      "0th iteration\n",
      "8th iteration\n",
      "16th iteration\n",
      "24th iteration\n",
      "32th iteration\n",
      "Working on 2011\n",
      "0th iteration\n",
      "8th iteration\n",
      "16th iteration\n",
      "24th iteration\n",
      "32th iteration\n"
     ]
    }
   ],
   "source": [
    "for i in range(5):\n",
    "    year = 2007 + i\n",
    "    print(\"Working on {0}\".format(year))   \n",
    "    for j in range(initCount):\n",
    "        if j % 8 == 0:\n",
    "            print(\"{0}th iteration\".format(j))\n",
    "        \n",
    "        trainChans = temporal[(openMask) & (temporal.timeStamp >= (str(year-1))) & (temporal.timeStamp < (str(year))) & \n",
    "                              (~temporal.bugID.isin(zeroChans))].bugID.drop_duplicates().reset_index(drop=True)\n",
    "        train = temporal[(temporal.timeStamp >= (str(year-1))) & (temporal.timeStamp < (str(year))) & \n",
    "                         (temporal.bugID.isin(trainChans))].reset_index(drop=True)\n",
    "\n",
    "        # Shuffle by BugID \n",
    "        sorterIndex = dict(zip(train.bugID.sample(frac=1).values,range(len(train.bugID.values))))\n",
    "        train['bugRank'] = train['bugID'].map(sorterIndex)\n",
    "        train = train.sort_values(by=['bugRank', 'timeStamp']).reset_index(drop=True)\n",
    "        train = train.drop('bugRank', axis=1)       \n",
    "        \n",
    "        testChans = temporal[(openMask) & (temporal.timeStamp >= (str(year))) & (temporal.timeStamp < (str(year+1))) & \n",
    "                             (~temporal.bugID.isin(zeroChans))].bugID.drop_duplicates().reset_index(drop=True)\n",
    "        test = temporal[(temporal.timeStamp >= (str(year))) & (temporal.timeStamp < (str(year+1))) & \n",
    "                        (temporal.bugID.isin(testChans))].reset_index(drop=True)\n",
    "        \n",
    "        # Divide training set based on the flag\n",
    "        X1 = train[train.isSlow == 1].code.values.reshape(-1,1)\n",
    "        X2 = train[train.isSlow == 0].code.values.reshape(-1,1)\n",
    "        lengths1 = train[train.isSlow == 1].groupby(['bugID']).count().code.tolist()\n",
    "        lengths2 = train[train.isSlow == 0].groupby(['bugID']).count().code.tolist()\n",
    "\n",
    "        slowModel = hmm.MultinomialHMM(n_components  = numStates, n_iter = iterCount)\n",
    "        slowModel.startprob_ = startprob\n",
    "        slowModel.transmat_ = transmat\n",
    "        slowModel.emissionprob_ = emissionprob\n",
    "        slowModel = slowModel.fit(X = X1, lengths = lengths1)\n",
    "        \n",
    "        fastModel = hmm.MultinomialHMM(n_components  = numStates, n_iter = iterCount)\n",
    "        fastModel.startprob_ = startprob\n",
    "        fastModel.transmat_ = transmat\n",
    "        fastModel.emissionprob_ = emissionprob\n",
    "        fastModel = fastModel.fit(X = X2, lengths = lengths2)\n",
    "    \n",
    "        prediction = test.copy()\n",
    "        prediction.loc[:,'pred'] = pd.Series(np.repeat(-1, test.shape[0]), index=test.index)\n",
    "        prediction = prediction.loc[:,['bugID','isSlow', 'pred']].drop_duplicates().reset_index(drop=True)\n",
    "\n",
    "        # Classify bug based on the highest log lilelihood\n",
    "        for i in range(testChans.shape[0]):\n",
    "            temp = test[test.loc[:,'bugID'] == testChans.iloc[i]].code.values.reshape(-1,1)[0:activities]\n",
    "            prediction.iloc[i,2] = np.where(slowModel.score(X = temp) > fastModel.score(X = temp), 1, 0)\n",
    "        \n",
    "        precision, recall, fscore, _  = precision_recall_fscore_support(y_true = prediction.isSlow.values,\n",
    "                                                                y_pred = prediction.pred.values)\n",
    "        accuracy = accuracy_score(y_true = prediction.isSlow.values,  y_pred = prediction.pred.values)\n",
    "\n",
    "        temp = pd.DataFrame([[int(year), precision[1], recall[1], fscore[1], accuracy]], \n",
    "                 columns=['Year', 'Precision', 'Recall', 'F-Score', 'Accuracy'])\n",
    "        results= results.append(temp)"
   ]
  },
  {
   "cell_type": "code",
   "execution_count": 4,
   "metadata": {},
   "outputs": [
    {
     "data": {
      "image/png": "[encoded data removed]",
      "text/plain": [
       "<matplotlib.figure.Figure at 0x285827d2f28>"
      ]
     },
     "metadata": {},
     "output_type": "display_data"
    }
   ],
   "source": [
    "import matplotlib.pyplot as plt\n",
    "\n",
    "results.loc[:,['Year', 'F-Score']].boxplot(by = 'Year', vert = True, figsize=(8,6))\n",
    "plt.show()"
   ]
  },
  {
   "cell_type": "code",
   "execution_count": 5,
   "metadata": {},
   "outputs": [
    {
     "data": {
      "image/png": "[encoded data removed]",
      "text/plain": [
       "<matplotlib.figure.Figure at 0x285fec058d0>"
      ]
     },
     "metadata": {},
     "output_type": "display_data"
    }
   ],
   "source": [
    "results2= results[results.Year.isin([2007,2008,2009])]\n",
    "\n",
    "results2.loc[:,['Year', 'F-Score']].boxplot(by = 'Year', vert = True, figsize=(8,6))\n",
    "plt.show()"
   ]
  }
 ],
 "metadata": {
  "kernelspec": {
   "display_name": "Python [default]",
   "language": "python",
   "name": "python3"
  },
  "language_info": {
   "codemirror_mode": {
    "name": "ipython",
    "version": 3
   },
   "file_extension": ".py",
   "mimetype": "text/x-python",
   "name": "python",
   "nbconvert_exporter": "python",
   "pygments_lexer": "ipython3",
   "version": "3.6.3"
  }
 },
 "nbformat": 4,
 "nbformat_minor": 2
}
